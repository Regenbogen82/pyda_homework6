{
 "cells": [
  {
   "cell_type": "markdown",
   "metadata": {},
   "source": [
    "# Домашнее задание к лекции \"Регулярные выражения\"\n",
    "Для зачета необходимо выполнить 4 задания.  \n",
    "Для зачета с отличием – все."
   ]
  },
  {
   "cell_type": "markdown",
   "metadata": {},
   "source": [
    "## Задание 1"
   ]
  },
  {
   "cell_type": "markdown",
   "metadata": {},
   "source": [
    "Напишите функцию, которая принимает на вход строку и проверяет является ли она валидным транспортным номером. Если да, то функция должна возвращать отдельно номер и регион."
   ]
  },
  {
   "cell_type": "code",
   "execution_count": 61,
   "metadata": {},
   "outputs": [],
   "source": [
    "import re\n",
    "def plates_check(plate):\n",
    "    \n",
    "    regex_plates = '[а,в,е,к,м,н,о,р,с,т,у,х,a,b,e,k,m,h,o,p,c,t,y,x,A,B,E,K,M,H,O,P,C,T,Y,X,\\\n",
    "    А,В,Е,К,М,Н,О,Р,С,Т,У,Х]{1}\\d{3}[а,в,е,к,м,н,о,р,с,т,у,х,a,b,e,k,m,h,o,p,c,t,y,x,A,B,E,K,M,H,O,P,\\\n",
    "    C,T,Y,X,А,В,Е,К,М,Н,О,Р,С,Т,У,Х]{2}\\d{2,3}'\n",
    "   \n",
    "    if re.match(regex_plates, plate):\n",
    "        x = re.findall('(?<!\\w{2})\\d{3}', plate)   \n",
    "        y = re.findall('(?<=\\w{1}\\d{3}\\w{2})\\d{2,3}', plate)\n",
    "        print('Транспортный номер верный.', 'Номер:', str(x), 'Регион:', str(y))\n",
    "    else:\n",
    "        print('Транспортный номер неверный.')\n",
    "\n"
   ]
  },
  {
   "cell_type": "code",
   "execution_count": 64,
   "metadata": {},
   "outputs": [
    {
     "name": "stdout",
     "output_type": "stream",
     "text": [
      "Транспортный номер верный. Номер: ['850'] Регион: ['64']\n"
     ]
    }
   ],
   "source": [
    "plates_check('У850Хо64')\n"
   ]
  },
  {
   "cell_type": "markdown",
   "metadata": {},
   "source": [
    "## Задание 2"
   ]
  },
  {
   "cell_type": "markdown",
   "metadata": {},
   "source": [
    "Напишите функцию, которая проверяет e-mail адрес на валидность по стандарту RFC822: http://www.w3.org/Protocols/rfc822/. Для этого постарайтесь написать (в крайнем случае найти) самый полный шаблон для проверки e-mail адресов через регулярное выражение. Разберитесь и напишите примеры, какие ваш шаблон может не охватить."
   ]
  },
  {
   "cell_type": "code",
   "execution_count": 571,
   "metadata": {},
   "outputs": [],
   "source": [
    "def mails_check(e_mail):\n",
    "    regex_mails = '[a-zA-Z0-9_\\.]+@[a-zA-Z]+\\.(([a-z]{2,3})|([a-z]{2}\\.[a-z]{2,3}))$'\n",
    "    if re.match(regex_mails, e_mail):\n",
    "        print('correct e-mail')\n",
    "    else:\n",
    "        print('e-mail is incorrect')"
   ]
  },
  {
   "cell_type": "code",
   "execution_count": 583,
   "metadata": {},
   "outputs": [
    {
     "name": "stdout",
     "output_type": "stream",
     "text": [
      "correct e-mail\n"
     ]
    }
   ],
   "source": [
    "e_mail = 'kristina23051995@mail.ru'\n",
    "mails_check(e_mail)\n",
    "\n",
    "#не совсем разобралась, что такое RFC822 стандарт. Почитала в интернете, что он может включать нестандартные символы,\n",
    "# но не поняла, зачем это разрешено. их можно конечно дописать в первую часть regex_mails."
   ]
  },
  {
   "cell_type": "markdown",
   "metadata": {},
   "source": [
    "## Задание 3\n",
    "Напишите функцию, которая будет удалять все последовательные повторы слов из заданной строки."
   ]
  },
  {
   "cell_type": "code",
   "execution_count": 502,
   "metadata": {},
   "outputs": [],
   "source": [
    "def del_repeats(text):\n",
    "    text2 =  text.lower()\n",
    "    list_del = []\n",
    "    regex_del = '[\\w]+'\n",
    "    list_del = re.findall(regex_del, text2)\n",
    "    a = list_del[1]\n",
    "    b = 1\n",
    "    for i in list_del:\n",
    "        if b < len(list_del) - 1: \n",
    "            if i == a: \n",
    "                text3 = text2.replace(i + ' ' + a, a)\n",
    "                text2 = text3\n",
    "            b += 1\n",
    "            a = list_del[b]\n",
    "    print(text3)\n",
    "\n",
    "#set_del = set(list_del)\n",
    "#dict_del = {}\n",
    "#for word in list_del:\n",
    "#    if word in dict_del.keys():\n",
    "#        dict_del[word] += 1\n",
    "#    else:\n",
    "#        dict_del[word] = 1\n",
    "#for i in dict_del:\n",
    "#    if dict_del[i] > 1:\n",
    "#        2\n",
    "#i = 'все'        \n",
    "#regex = \"'\\W\" + i + \"\\W|\" + i +\"\\W'\"\n",
    "#\n",
    "#text3 = re.sub(regex, ' ', text2)\n",
    "#print(text3)"
   ]
  },
  {
   "cell_type": "code",
   "execution_count": 503,
   "metadata": {},
   "outputs": [
    {
     "name": "stdout",
     "output_type": "stream",
     "text": [
      "все мы пошли гулять в лес. все собирали грибы, и все потом их чистили и жарили.\n"
     ]
    }
   ],
   "source": [
    "text = 'Все мы пошли гулять в лес. Все все собирали грибы, и все потом их их чистили и и жарили.'\n",
    "del_repeats(text)"
   ]
  },
  {
   "cell_type": "markdown",
   "metadata": {},
   "source": [
    "## Задание 4\n",
    "Напишите функцию, которая будет проверять номер сотового телефона на валидность, если он валиден, то переводить его в формат:   \n",
    "+7(xxx)-xxx-xx-xx  \n",
    "Постарайтесь предусмотреть как можно больше адекватных форматов изначального ввода номера.\n",
    "Примеры правильных и неправильных форматов:\n",
    "- +7 955 555-55-55;\n",
    "- 955555555;\n",
    "- 8(955)555-55-55;\n",
    "- +7 955 555 55 55;\n",
    "- 7(955) 555-55-55;\n",
    "- +7 955+555+55+55."
   ]
  },
  {
   "cell_type": "code",
   "execution_count": 362,
   "metadata": {},
   "outputs": [],
   "source": [
    "def phone_correct(phone_num):\n",
    "    regex_cor = '(\\+7|7|8|7?)(\\W|\\W{2}|\\s\\W|\\(|.{0})(\\d{3})(\\W|\\W{2}|\\W\\s|.{0})(\\d{3})(\\W|-|.{0})(\\d{2})(\\W|.{0}|-)(\\d{2})'\n",
    "    #print(re.findall(regex_cor, phone_num))\n",
    "    if re.match(regex_cor, phone_num):\n",
    "        cor_num = re.sub(regex_cor, r'+7(\\3)\\5-\\7-\\9',phone_num)\n",
    "        print(cor_num)\n",
    "    else:\n",
    "        print('введен некорректный номер')"
   ]
  },
  {
   "cell_type": "code",
   "execution_count": 363,
   "metadata": {},
   "outputs": [
    {
     "name": "stdout",
     "output_type": "stream",
     "text": [
      "+7(443)777-42-55\n"
     ]
    }
   ],
   "source": [
    "#phone_num = '+7 955 555-55-55'\n",
    "#phone_num = '9555755555'\n",
    "#phone_num = '8(955)555-55-55'\n",
    "#phone_num = '+7 955 555 55 55'\n",
    "#phone_num = '7(955) 555-55-55'\n",
    "#phone_num = '+7 955+555+55+55'\n",
    "phone_num = '8-(443)-777 42 55'\n",
    "phone_correct(phone_num)\n",
    "\n",
    "#если будет больше одного пробела, то не будет работать"
   ]
  },
  {
   "cell_type": "code",
   "execution_count": null,
   "metadata": {},
   "outputs": [],
   "source": []
  }
 ],
 "metadata": {
  "kernelspec": {
   "display_name": "Python 3",
   "language": "python",
   "name": "python3"
  },
  "language_info": {
   "codemirror_mode": {
    "name": "ipython",
    "version": 3
   },
   "file_extension": ".py",
   "mimetype": "text/x-python",
   "name": "python",
   "nbconvert_exporter": "python",
   "pygments_lexer": "ipython3",
   "version": "3.7.4"
  }
 },
 "nbformat": 4,
 "nbformat_minor": 2
}
